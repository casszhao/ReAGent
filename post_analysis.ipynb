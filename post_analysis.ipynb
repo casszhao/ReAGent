{
 "cells": [
  {
   "cell_type": "code",
   "execution_count": null,
   "metadata": {},
   "outputs": [],
   "source": [
    "import pandas as pd"
   ]
  },
  {
   "cell_type": "code",
   "execution_count": 6,
   "metadata": {},
   "outputs": [],
   "source": [
    "model_name=\"gpt2-medium\"\n",
    "FA_name=\"all_attention\"\n",
    "\n",
    "importance_results=f\"rationalization_results/analogies/{model_name}_{FA_name}\"\n",
    "eva_output_dir=f\"evaluation_results/analogies/{model_name}_{FA_name}\""
   ]
  },
  {
   "cell_type": "code",
   "execution_count": 7,
   "metadata": {},
   "outputs": [
    {
     "ename": "NameError",
     "evalue": "name 'pd' is not defined",
     "output_type": "error",
     "traceback": [
      "\u001b[0;31m---------------------------------------------------------------------------\u001b[0m",
      "\u001b[0;31mNameError\u001b[0m                                 Traceback (most recent call last)",
      "Cell \u001b[0;32mIn[7], line 1\u001b[0m\n\u001b[0;32m----> 1\u001b[0m faithful_results \u001b[39m=\u001b[39m pd\u001b[39m.\u001b[39mread_csv(eva_output_dir\u001b[39m+\u001b[39m\u001b[39m'\u001b[39m\u001b[39m/mean.csv\u001b[39m\u001b[39m'\u001b[39m)\n\u001b[1;32m      2\u001b[0m faithful_results\n",
      "\u001b[0;31mNameError\u001b[0m: name 'pd' is not defined"
     ]
    }
   ],
   "source": [
    "faithful_results = pd.read_csv(eva_output_dir+'/mean.csv')\n",
    "faithful_results"
   ]
  },
  {
   "cell_type": "code",
   "execution_count": null,
   "metadata": {},
   "outputs": [],
   "source": [
    "final_list=[]\n",
    "\n",
    "metrics_list = ['suff', 'soft_suff', 'comp', 'soft_comp']\n",
    "\n",
    "for metrics in metrics_list:\n",
    "    final=faithful_results[f'norm_{metrics}']/faithful_results[f'random_norm_{metrics}']\n",
    "    final_list.append(final)\n",
    "\n",
    "    \n",
    "\n",
    "print(f\"==>> metrics: {metrics_list}\")\n",
    "print(f\"==>> final: {final_list}\")"
   ]
  }
 ],
 "metadata": {
  "kernelspec": {
   "display_name": "eva",
   "language": "python",
   "name": "python3"
  },
  "language_info": {
   "codemirror_mode": {
    "name": "ipython",
    "version": 3
   },
   "file_extension": ".py",
   "mimetype": "text/x-python",
   "name": "python",
   "nbconvert_exporter": "python",
   "pygments_lexer": "ipython3",
   "version": "3.9.13"
  },
  "orig_nbformat": 4
 },
 "nbformat": 4,
 "nbformat_minor": 2
}
