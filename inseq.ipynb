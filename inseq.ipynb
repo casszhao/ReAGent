{
 "cells": [
  {
   "cell_type": "code",
   "execution_count": 4,
   "metadata": {},
   "outputs": [],
   "source": [
    "import inseq"
   ]
  },
  {
   "cell_type": "code",
   "execution_count": 74,
   "metadata": {},
   "outputs": [],
   "source": [
    "from transformers import AutoModelWithLMHead, AutoTokenizer,AutoModelForCausalLM\n",
    "import torch\n",
    "def get_next_token_probabilities(model, input_embeddings):\n",
    "    with torch.no_grad():\n",
    "        outputs = model(inputs_embeds=input_embeddings)\n",
    "        logits = outputs.logits[:, -1, :]  # Get the logits for the last token\n",
    "        probabilities = torch.softmax(logits, dim=-1)\n",
    "    return probabilities"
   ]
  },
  {
   "cell_type": "markdown",
   "metadata": {},
   "source": [
    "## testing soft suff"
   ]
  },
  {
   "cell_type": "code",
   "execution_count": 92,
   "metadata": {},
   "outputs": [
    {
     "name": "stderr",
     "output_type": "stream",
     "text": [
      "/home/cass/anaconda3/envs/eva/lib/python3.11/site-packages/transformers/models/auto/modeling_auto.py:1248: FutureWarning: The class `AutoModelWithLMHead` is deprecated and will be removed in a future version. Please use `AutoModelForCausalLM` for causal language models, `AutoModelForMaskedLM` for masked language models and `AutoModelForSeq2SeqLM` for encoder-decoder models.\n",
      "  warnings.warn(\n"
     ]
    }
   ],
   "source": [
    "model = AutoModelWithLMHead.from_pretrained(\"gpt2-medium\")\n",
    "tokenizer = AutoTokenizer.from_pretrained(\"gpt2-medium\")"
   ]
  },
  {
   "cell_type": "code",
   "execution_count": 116,
   "metadata": {},
   "outputs": [],
   "source": [
    "input_string = [ \"I landed in Greece and I was staying in the capital city of\" ]\n",
    "input_ids = tokenizer(input_string, return_tensors='pt')['input_ids'].to(model.device)\n",
    "\n",
    "### let s test 3 different importance distribution 1. flat 2. random 3. empirical correct\n",
    "importance_scores = torch.softmax(torch.log(torch.tensor([[ 0, 0, 0, 0.1, 0.1, 0.1, 0.1, 0.1, 0.1, 0.1, 0.1, 0.1, 0.1]], dtype=torch.float, device=model.device)), -1)\n",
    "# and are removed heavily\n",
    "strong_importance_scores = torch.softmax(torch.log(torch.tensor([[ 0, 0, 0, 0, 0.8, 0, 0, 0, 0, 0, 0.1, 0.1, 0]], dtype=torch.float, device=model.device)), -1)\n",
    "# greece are removed heavily\n",
    "correct_importance_scores = torch.softmax(torch.log(torch.tensor([[ 0, 0, 0, 0, 0, 0.8, 0, 0, 0, 0, 0.1, 0.1, 0]], dtype=torch.float, device=model.device)), -1)\n",
    "\n",
    "\n",
    "input_wte = model.transformer.wte(input_ids)\n"
   ]
  },
  {
   "cell_type": "code",
   "execution_count": 117,
   "metadata": {},
   "outputs": [
    {
     "name": "stdout",
     "output_type": "stream",
     "text": [
      "Next Token Probability Distribution over all probability:\n",
      "tensor([[2.4524e-06, 2.8481e-06, 2.2075e-08,  ..., 1.6170e-09, 8.6779e-10,\n",
      "         1.2370e-05]])\n",
      "tensor([0.5257])\n",
      "Next Token ID: tensor(21891)\n",
      "Next Token:  Athens\n",
      " \n"
     ]
    }
   ],
   "source": [
    "next_token_probabilities = get_next_token_probabilities(model, input_wte)\n",
    "next_token_id = torch.argmax(next_token_probabilities)\n",
    "next_token = tokenizer.decode(next_token_id)\n",
    "\n",
    "print(\"Next Token Probability Distribution over all probability:\")\n",
    "print(next_token_probabilities)\n",
    "print(next_token_probabilities[:,next_token_id])\n",
    "print(\"Next Token ID:\", next_token_id)\n",
    "print(\"Next Token:\", next_token)\n",
    "print(' ')"
   ]
  },
  {
   "cell_type": "code",
   "execution_count": 118,
   "metadata": {},
   "outputs": [
    {
     "name": "stdout",
     "output_type": "stream",
     "text": [
      "flat importance distribution, should be less change\n",
      "Next Token Probability Distribution over all probability:\n",
      "tensor([[2.7316e-06, 3.8048e-06, 2.1670e-08,  ..., 7.7315e-10, 7.0193e-10,\n",
      "         1.3444e-05]])\n",
      "tensor([0.4927])\n",
      "Next Token ID: tensor(21891)\n",
      "Next Token:  Athens\n",
      " \n"
     ]
    }
   ],
   "source": [
    "embeddings_3rd = input_wte.size(2)\n",
    "importance_scores = importance_scores.unsqueeze(2).repeat(1, 1, embeddings_3rd)\n",
    "zeroout_mask = torch.bernoulli(1-importance_scores).to(model.device)\n",
    "soft_input_wte = input_wte * zeroout_mask\n",
    "\n",
    "\n",
    "next_token_probabilities = get_next_token_probabilities(model, soft_input_wte)\n",
    "next_token_id = torch.argmax(next_token_probabilities)\n",
    "next_token = tokenizer.decode(next_token_id)\n",
    "\n",
    "print(\"flat importance distribution, should be less change\".center(50, \"-\"))\n",
    "print(\"Next Token Probability Distribution over all probability:\")\n",
    "print(next_token_probabilities)\n",
    "print(next_token_probabilities[:,next_token_id])\n",
    "print(\"Next Token ID:\", next_token_id)\n",
    "print(\"Next Token:\", next_token)\n",
    "print(' ')"
   ]
  },
  {
   "cell_type": "code",
   "execution_count": 119,
   "metadata": {},
   "outputs": [
    {
     "name": "stdout",
     "output_type": "stream",
     "text": [
      "skewed importance distribution, should lead to big changes\n",
      "Next Token Probability Distribution over all probability:\n",
      "tensor([[4.7157e-06, 8.1449e-06, 2.7785e-08,  ..., 2.7829e-10, 2.2713e-10,\n",
      "         2.4398e-05]])\n",
      "tensor([0.2394])\n",
      "Next Token ID: tensor(21891)\n",
      "Next Token:  Athens\n",
      " \n"
     ]
    }
   ],
   "source": [
    "embeddings_3rd = input_wte.size(2)\n",
    "# using strong skewed importance score (incorrect one), unimportance ones are removed, important ones are keeeps, expect small changes\n",
    "importance_scores = strong_importance_scores.unsqueeze(2).repeat(1, 1, embeddings_3rd)\n",
    "zeroout_mask = torch.bernoulli(1-importance_scores).to(model.device)\n",
    "soft_input_wte = input_wte * zeroout_mask\n",
    "\n",
    "\n",
    "next_token_probabilities = get_next_token_probabilities(model, soft_input_wte)\n",
    "next_token_id = torch.argmax(next_token_probabilities)\n",
    "next_token = tokenizer.decode(next_token_id)\n",
    "\n",
    "print(\"skewed importance distribution, should lead to big changes\".center(50, \"-\"))\n",
    "print(\"Next Token Probability Distribution over all probability:\")\n",
    "print(next_token_probabilities)\n",
    "print(next_token_probabilities[:,next_token_id])\n",
    "print(\"Next Token ID:\", next_token_id)\n",
    "print(\"Next Token:\", next_token)\n",
    "print(' ')"
   ]
  },
  {
   "cell_type": "code",
   "execution_count": 120,
   "metadata": {},
   "outputs": [
    {
     "name": "stdout",
     "output_type": "stream",
     "text": [
      "correct importance distribution, should lead to small changes\n",
      "Next Token Probability Distribution over all probability:\n",
      "tensor([[3.2545e-06, 3.6667e-06, 2.4394e-08,  ..., 1.1526e-09, 6.0725e-10,\n",
      "         1.5459e-05]])\n",
      "tensor([0.3688])\n",
      "Next Token ID: tensor(21891)\n",
      "Next Token:  Athens\n",
      " \n"
     ]
    }
   ],
   "source": [
    "print(\"correct importance distribution, should lead to small changes\".center(50, \"-\"))\n",
    "embeddings_3rd = input_wte.size(2)\n",
    "# using strong skewed importance score (incorrect one), unimportance ones are removed, important ones are keeeps, expect small changes\n",
    "importance_scores = correct_importance_scores.unsqueeze(2).repeat(1, 1, embeddings_3rd)\n",
    "zeroout_mask = torch.bernoulli(1-importance_scores).to(model.device)\n",
    "soft_input_wte = input_wte * zeroout_mask\n",
    "\n",
    "\n",
    "next_token_probabilities = get_next_token_probabilities(model, soft_input_wte)\n",
    "next_token_id = torch.argmax(next_token_probabilities)\n",
    "next_token = tokenizer.decode(next_token_id)\n",
    "\n",
    "\n",
    "print(\"Next Token Probability Distribution over all probability:\")\n",
    "print(next_token_probabilities)\n",
    "print(next_token_probabilities[:,next_token_id])\n",
    "print(\"Next Token ID:\", next_token_id)\n",
    "print(\"Next Token:\", next_token)\n",
    "print(' ')"
   ]
  },
  {
   "cell_type": "code",
   "execution_count": 84,
   "metadata": {},
   "outputs": [
    {
     "name": "stdout",
     "output_type": "stream",
     "text": [
      "Next Token Probability Distribution over all probability:\n",
      "tensor([[2.0519e-05, 1.7326e-05, 2.0323e-07,  ..., 6.2910e-08, 5.7693e-08,\n",
      "         2.1967e-05]])\n",
      "torch.Size([1, 50257])\n",
      "tensor([0.0964])\n",
      "the probability of 'Athens' tensor([0.0026])\n",
      "Next Token ID: tensor(262)\n",
      "Next Token:  the\n"
     ]
    }
   ],
   "source": [
    "# change \"I\" to \"You\", change \"Greece\" to \"nowhere\"\n",
    "masked_input_string = [ \"You landed in nowhere and I was staying in the capital city of\" ]\n",
    "masked_input_ids = tokenizer(masked_input_string, return_tensors='pt')['input_ids'].to(model.device)\n",
    "masked_input_wte = model.transformer.wte(masked_input_ids)\n",
    "\n",
    "next_token_probabilities = get_next_token_probabilities(model, masked_input_wte)\n",
    "next_token_id = torch.argmax(next_token_probabilities)\n",
    "next_token = tokenizer.decode(next_token_id)\n",
    "\n",
    "print(\"Next Token Probability Distribution over all probability:\")\n",
    "print(next_token_probabilities)\n",
    "print(next_token_probabilities.size())\n",
    "print(next_token_probabilities[:,next_token_id])\n",
    "print(\"the probability of 'Athens'\", next_token_probabilities[:,21891])\n",
    "print(\"Next Token ID:\", next_token_id)\n",
    "print(\"Next Token:\", next_token)"
   ]
  },
  {
   "cell_type": "code",
   "execution_count": 85,
   "metadata": {},
   "outputs": [
    {
     "name": "stdout",
     "output_type": "stream",
     "text": [
      "Next Token Probability Distribution over all probability:\n",
      "tensor([[2.1874e-06, 1.7047e-06, 1.1743e-08,  ..., 1.7569e-09, 6.3192e-10,\n",
      "         8.1974e-06]])\n",
      "torch.Size([1, 50257])\n",
      "tensor([0.8049])\n",
      "the probability of 'Athens' tensor([0.8049])\n",
      "Next Token ID: tensor(21891)\n",
      "Next Token:  Athens\n"
     ]
    }
   ],
   "source": [
    "masked_input_string = [ \"You landed in Greece and I was staying in the capital city of\" ]\n",
    "masked_input_ids = tokenizer(masked_input_string, return_tensors='pt')['input_ids'].to(model.device)\n",
    "masked_input_wte = model.transformer.wte(masked_input_ids)\n",
    "\n",
    "next_token_probabilities = get_next_token_probabilities(model, masked_input_wte)\n",
    "next_token_id = torch.argmax(next_token_probabilities)\n",
    "next_token = tokenizer.decode(next_token_id)\n",
    "\n",
    "print(\"Next Token Probability Distribution over all probability:\")\n",
    "print(next_token_probabilities)\n",
    "print(next_token_probabilities.size())\n",
    "print(next_token_probabilities[:,next_token_id])\n",
    "print(\"the probability of 'Athens'\", next_token_probabilities[:,21891])\n",
    "print(\"Next Token ID:\", next_token_id)\n",
    "print(\"Next Token:\", next_token)\n",
    "\n"
   ]
  },
  {
   "cell_type": "markdown",
   "metadata": {},
   "source": [
    "## testing package inseq"
   ]
  },
  {
   "cell_type": "code",
   "execution_count": 14,
   "metadata": {},
   "outputs": [],
   "source": [
    "Model = \"facebook/bart-base\"\n",
    "'''\n",
    "\"decapoda-research/llama-7b-hf\"\n",
    "\"Helsinki-NLP/opus-mt-en-fr\" \n",
    "\"facebook/bart-base\"  558M\n",
    "'''\n",
    "\n",
    "FA = \"integrated_gradients\"\n",
    "'''\n",
    "saliency input_x_gradient integrated_gradients deeplift gradient_shap discretized_integrated_gradients\n",
    "attention\n",
    "occlusion lime\n",
    "'''\n",
    "\n",
    "text = \"when my flight landed in Greece, I converted my currency and slowly fall asleep. I was staying in the capital of\""
   ]
  },
  {
   "cell_type": "code",
   "execution_count": 26,
   "metadata": {},
   "outputs": [
    {
     "name": "stderr",
     "output_type": "stream",
     "text": [
      "attribute_target parameter is set to True, but will be ignored (not an encoder-decoder).\n",
      "Setting `pad_token_id` to `eos_token_id`:50256 for open-end generation.\n",
      "Unused arguments during attribution: {'n_steps': 500, 'internal_batch_size': 50}\n",
      "Attributing with input_x_gradient...: 100%|██████████| 45/45 [00:00<00:00, 52.08it/s]\n"
     ]
    },
    {
     "data": {
      "text/html": [
       "<br/><b>0th instance:</b><br/>\n",
       "<html>\n",
       "<div id=\"usieyiccwpusnzjovqwp_viz_container\">\n",
       "    <div id=\"usieyiccwpusnzjovqwp_content\" style=\"padding:15px;border-style:solid;margin:5px;\">\n",
       "        <div id = \"usieyiccwpusnzjovqwp_saliency_plot_container\" class=\"usieyiccwpusnzjovqwp_viz_container\" style=\"display:block\">\n",
       "            \n",
       "<div id=\"qahftrxckafnafqofpva_saliency_plot\" class=\"qahftrxckafnafqofpva_viz_content\">\n",
       "    <div style=\"margin:5px;font-family:sans-serif;font-weight:bold;\">\n",
       "        <span style=\"font-size: 20px;\">Target Saliency Heatmap</span>\n",
       "        <br>\n",
       "        x: Generated tokens, y: Attributed tokens\n",
       "    </div>\n",
       "    \n",
       "<table border=\"1\" cellpadding=\"5\" cellspacing=\"5\"\n",
       "    style=\"overflow-x:scroll;display:block;\">\n",
       "    <tr><th></th>\n",
       "<th>ĠTokyo</th></tr><tr><th>When</th><th style=\"background:rgba(255.0, 13.0, 87.0, 0.12501485442661908)\">0.023</th></tr><tr><th>Ġmy</th><th style=\"background:rgba(255.0, 13.0, 87.0, 0.08560110913052081)\">0.017</th></tr><tr><th>Ġflight</th><th style=\"background:rgba(255.0, 13.0, 87.0, 0.14866310160427795)\">0.028</th></tr><tr><th>Ġlanded</th><th style=\"background:rgba(255.0, 13.0, 87.0, 0.10136660724896006)\">0.019</th></tr><tr><th>Ġin</th><th style=\"background:rgba(255.0, 13.0, 87.0, 0.18019409784115661)\">0.034</th></tr><tr><th>ĠJapan</th><th style=\"background:rgba(255.0, 13.0, 87.0, 0.41667656961774624)\">0.077</th></tr><tr><th>,</th><th style=\"background:rgba(255.0, 13.0, 87.0, 0.3142008318478907)\">0.058</th></tr><tr><th>ĠI</th><th style=\"background:rgba(255.0, 13.0, 87.0, 0.03830461477520289)\">0.008</th></tr><tr><th>Ġconverted</th><th style=\"background:rgba(255.0, 13.0, 87.0, 0.06983561101208159)\">0.014</th></tr><tr><th>Ġmy</th><th style=\"background:rgba(255.0, 13.0, 87.0, 0.030421865715983164)\">0.006</th></tr><tr><th>Ġcurrency</th><th style=\"background:rgba(255.0, 13.0, 87.0, 0.219607843137255)\">0.041</th></tr><tr><th>Ġand</th><th style=\"background:rgba(255.0, 13.0, 87.0, 0.12501485442661908)\">0.023</th></tr><tr><th>Ġslowly</th><th style=\"background:rgba(255.0, 13.0, 87.0, 0.04618736383442265)\">0.01</th></tr><tr><th>Ġfell</th><th style=\"background:rgba(255.0, 13.0, 87.0, 0.030421865715983164)\">0.007</th></tr><tr><th>Ġasleep</th><th style=\"background:rgba(255.0, 13.0, 87.0, 0.09348385818974037)\">0.017</th></tr><tr><th>.</th><th style=\"background:rgba(255.0, 13.0, 87.0, 0.14866310160427795)\">0.029</th></tr><tr><th>Ġ(</th><th style=\"background:rgba(255.0, 13.0, 87.0, 0.09348385818974037)\">0.019</th></tr><tr><th>I</th><th style=\"background:rgba(255.0, 13.0, 87.0, 0.02253911665676371)\">0.005</th></tr><tr><th>Ġhad</th><th style=\"background:rgba(255.0, 13.0, 87.0, 0.02253911665676371)\">0.005</th></tr><tr><th>Ġa</th><th style=\"background:rgba(255.0, 13.0, 87.0, 0.06195286195286207)\">0.012</th></tr><tr><th>Ġterrifying</th><th style=\"background:rgba(255.0, 13.0, 87.0, 0.06195286195286207)\">0.013</th></tr><tr><th>Ġdream</th><th style=\"background:rgba(255.0, 13.0, 87.0, 0.06195286195286207)\">0.012</th></tr><tr><th>Ġabout</th><th style=\"background:rgba(255.0, 13.0, 87.0, 0.03830461477520289)\">0.008</th></tr><tr><th>Ġmy</th><th style=\"background:rgba(255.0, 13.0, 87.0, 0.02253911665676371)\">0.006</th></tr><tr><th>Ġgrandmother</th><th style=\"background:rgba(255.0, 13.0, 87.0, 0.1171321053673995)\">0.023</th></tr><tr><th>,</th><th style=\"background:rgba(255.0, 13.0, 87.0, 0.04618736383442265)\">0.01</th></tr><tr><th>Ġbut</th><th style=\"background:rgba(255.0, 13.0, 87.0, 0.014656367597544035)\">0.004</th></tr><tr><th>Ġthat</th><th style=\"background:rgba(255.0, 13.0, 87.0, 0.02253911665676371)\">0.005</th></tr><tr><th>âĢ</th><th style=\"background:rgba(255.0, 13.0, 87.0, 0.1171321053673995)\">0.023</th></tr><tr><th>Ļ</th><th style=\"background:rgba(255.0, 13.0, 87.0, 0.04618736383442265)\">0.009</th></tr><tr><th>s</th><th style=\"background:rgba(255.0, 13.0, 87.0, 0.02253911665676371)\">0.005</th></tr><tr><th>Ġa</th><th style=\"background:rgba(255.0, 13.0, 87.0, 0.05407011289364243)\">0.011</th></tr><tr><th>Ġstory</th><th style=\"background:rgba(255.0, 13.0, 87.0, 0.08560110913052081)\">0.017</th></tr><tr><th>Ġfor</th><th style=\"background:rgba(255.0, 13.0, 87.0, 0.030421865715983164)\">0.007</th></tr><tr><th>Ġanother</th><th style=\"background:rgba(255.0, 13.0, 87.0, 0.02253911665676371)\">0.005</th></tr><tr><th>Ġtime</th><th style=\"background:rgba(255.0, 13.0, 87.0, 0.03830461477520289)\">0.007</th></tr><tr><th>).</th><th style=\"background:rgba(255.0, 13.0, 87.0, 0.08560110913052081)\">0.016</th></tr><tr><th>ĠI</th><th style=\"background:rgba(255.0, 13.0, 87.0, 0.07771836007130124)\">0.015</th></tr><tr><th>Ġwas</th><th style=\"background:rgba(255.0, 13.0, 87.0, 0.14866310160427795)\">0.027</th></tr><tr><th>Ġstaying</th><th style=\"background:rgba(255.0, 13.0, 87.0, 0.16442859972271742)\">0.031</th></tr><tr><th>Ġin</th><th style=\"background:rgba(255.0, 13.0, 87.0, 0.12501485442661908)\">0.023</th></tr><tr><th>Ġthe</th><th style=\"background:rgba(255.0, 13.0, 87.0, 0.2117250940780353)\">0.039</th></tr><tr><th>Ġcapital</th><th style=\"background:rgba(255.0, 13.0, 87.0, 1.0)\">0.183</th></tr><tr><th>Ġof</th><th style=\"background:rgba(255.0, 13.0, 87.0, 0.26690433749257286)\">0.049</th></tr><tr><th>ĠTokyo</th><th style=\"background:rgba(0.0, 0.0, 0.0, 0.0)\"></th></tr></table>\n",
       "</div>\n",
       "\n",
       "        </div>\n",
       "    </div>\n",
       "</div>\n",
       "</html>\n"
      ],
      "text/plain": [
       "<IPython.core.display.HTML object>"
      ]
     },
     "metadata": {},
     "output_type": "display_data"
    }
   ],
   "source": [
    "model = inseq.load_model(\"gpt2\", \"input_x_gradient\") \n",
    "out = model.attribute(text, generation_args={\"max_new_tokens\": 1}, n_steps=500, internal_batch_size=50, attribute_target=True,)\n",
    "out.show()"
   ]
  },
  {
   "cell_type": "code",
   "execution_count": 24,
   "metadata": {},
   "outputs": [
    {
     "name": "stderr",
     "output_type": "stream",
     "text": [
      "attribute_target parameter is set to True, but will be ignored (not an encoder-decoder).\n",
      "/home/cass/anaconda3/envs/eva/lib/python3.11/site-packages/transformers/generation/utils.py:1186: UserWarning: You have modified the pretrained model configuration to control generation. This is a deprecated strategy to control generation and will be removed soon, in a future version. Please use a generation configuration file (see https://huggingface.co/docs/transformers/main_classes/text_generation)\n",
      "  warnings.warn(\n",
      "Setting `pad_token_id` to `eos_token_id`:50256 for open-end generation.\n",
      "Unused arguments during attribution: {'n_steps': 500, 'internal_batch_size': 50}\n",
      "Attributing with saliency...: 100%|██████████| 45/45 [00:00<00:00, 49.57it/s]\n"
     ]
    },
    {
     "data": {
      "text/html": [
       "<br/><b>0th instance:</b><br/>\n",
       "<html>\n",
       "<div id=\"usieyiccwpusnzjovqwp_viz_container\">\n",
       "    <div id=\"usieyiccwpusnzjovqwp_content\" style=\"padding:15px;border-style:solid;margin:5px;\">\n",
       "        <div id = \"usieyiccwpusnzjovqwp_saliency_plot_container\" class=\"usieyiccwpusnzjovqwp_viz_container\" style=\"display:block\">\n",
       "            \n",
       "<div id=\"qahftrxckafnafqofpva_saliency_plot\" class=\"qahftrxckafnafqofpva_viz_content\">\n",
       "    <div style=\"margin:5px;font-family:sans-serif;font-weight:bold;\">\n",
       "        <span style=\"font-size: 20px;\">Target Saliency Heatmap</span>\n",
       "        <br>\n",
       "        x: Generated tokens, y: Attributed tokens\n",
       "    </div>\n",
       "    \n",
       "<table border=\"1\" cellpadding=\"5\" cellspacing=\"5\"\n",
       "    style=\"overflow-x:scroll;display:block;\">\n",
       "    <tr><th></th>\n",
       "<th>ĠTokyo</th></tr><tr><th>When</th><th style=\"background:rgba(255.0, 13.0, 87.0, 0.1959595959595959)\">0.036</th></tr><tr><th>Ġmy</th><th style=\"background:rgba(255.0, 13.0, 87.0, 0.10136660724896006)\">0.02</th></tr><tr><th>Ġflight</th><th style=\"background:rgba(255.0, 13.0, 87.0, 0.17231134878193693)\">0.031</th></tr><tr><th>Ġlanded</th><th style=\"background:rgba(255.0, 13.0, 87.0, 0.10136660724896006)\">0.02</th></tr><tr><th>Ġin</th><th style=\"background:rgba(255.0, 13.0, 87.0, 0.15654585066349747)\">0.029</th></tr><tr><th>ĠJapan</th><th style=\"background:rgba(255.0, 13.0, 87.0, 0.44032481679540497)\">0.081</th></tr><tr><th>,</th><th style=\"background:rgba(255.0, 13.0, 87.0, 0.14866310160427795)\">0.028</th></tr><tr><th>ĠI</th><th style=\"background:rgba(255.0, 13.0, 87.0, 0.03830461477520289)\">0.008</th></tr><tr><th>Ġconverted</th><th style=\"background:rgba(255.0, 13.0, 87.0, 0.06983561101208159)\">0.014</th></tr><tr><th>Ġmy</th><th style=\"background:rgba(255.0, 13.0, 87.0, 0.03830461477520289)\">0.008</th></tr><tr><th>Ġcurrency</th><th style=\"background:rgba(255.0, 13.0, 87.0, 0.23537334125569415)\">0.043</th></tr><tr><th>Ġand</th><th style=\"background:rgba(255.0, 13.0, 87.0, 0.06983561101208159)\">0.013</th></tr><tr><th>Ġslowly</th><th style=\"background:rgba(255.0, 13.0, 87.0, 0.06195286195286207)\">0.012</th></tr><tr><th>Ġfell</th><th style=\"background:rgba(255.0, 13.0, 87.0, 0.03830461477520289)\">0.008</th></tr><tr><th>Ġasleep</th><th style=\"background:rgba(255.0, 13.0, 87.0, 0.09348385818974037)\">0.017</th></tr><tr><th>.</th><th style=\"background:rgba(255.0, 13.0, 87.0, 0.08560110913052081)\">0.016</th></tr><tr><th>Ġ(</th><th style=\"background:rgba(255.0, 13.0, 87.0, 0.06983561101208159)\">0.014</th></tr><tr><th>I</th><th style=\"background:rgba(255.0, 13.0, 87.0, 0.030421865715983164)\">0.006</th></tr><tr><th>Ġhad</th><th style=\"background:rgba(255.0, 13.0, 87.0, 0.030421865715983164)\">0.006</th></tr><tr><th>Ġa</th><th style=\"background:rgba(255.0, 13.0, 87.0, 0.04618736383442265)\">0.009</th></tr><tr><th>Ġterrifying</th><th style=\"background:rgba(255.0, 13.0, 87.0, 0.08560110913052081)\">0.016</th></tr><tr><th>Ġdream</th><th style=\"background:rgba(255.0, 13.0, 87.0, 0.06195286195286207)\">0.012</th></tr><tr><th>Ġabout</th><th style=\"background:rgba(255.0, 13.0, 87.0, 0.03830461477520289)\">0.008</th></tr><tr><th>Ġmy</th><th style=\"background:rgba(255.0, 13.0, 87.0, 0.030421865715983164)\">0.007</th></tr><tr><th>Ġgrandmother</th><th style=\"background:rgba(255.0, 13.0, 87.0, 0.12501485442661908)\">0.023</th></tr><tr><th>,</th><th style=\"background:rgba(255.0, 13.0, 87.0, 0.04618736383442265)\">0.01</th></tr><tr><th>Ġbut</th><th style=\"background:rgba(255.0, 13.0, 87.0, 0.030421865715983164)\">0.006</th></tr><tr><th>Ġthat</th><th style=\"background:rgba(255.0, 13.0, 87.0, 0.03830461477520289)\">0.008</th></tr><tr><th>âĢ</th><th style=\"background:rgba(255.0, 13.0, 87.0, 0.10924935630817992)\">0.02</th></tr><tr><th>Ļ</th><th style=\"background:rgba(255.0, 13.0, 87.0, 0.04618736383442265)\">0.009</th></tr><tr><th>s</th><th style=\"background:rgba(255.0, 13.0, 87.0, 0.030421865715983164)\">0.006</th></tr><tr><th>Ġa</th><th style=\"background:rgba(255.0, 13.0, 87.0, 0.05407011289364243)\">0.01</th></tr><tr><th>Ġstory</th><th style=\"background:rgba(255.0, 13.0, 87.0, 0.10136660724896006)\">0.019</th></tr><tr><th>Ġfor</th><th style=\"background:rgba(255.0, 13.0, 87.0, 0.03830461477520289)\">0.008</th></tr><tr><th>Ġanother</th><th style=\"background:rgba(255.0, 13.0, 87.0, 0.030421865715983164)\">0.006</th></tr><tr><th>Ġtime</th><th style=\"background:rgba(255.0, 13.0, 87.0, 0.03830461477520289)\">0.008</th></tr><tr><th>).</th><th style=\"background:rgba(255.0, 13.0, 87.0, 0.10924935630817992)\">0.02</th></tr><tr><th>ĠI</th><th style=\"background:rgba(255.0, 13.0, 87.0, 0.07771836007130124)\">0.015</th></tr><tr><th>Ġwas</th><th style=\"background:rgba(255.0, 13.0, 87.0, 0.13289760348583876)\">0.025</th></tr><tr><th>Ġstaying</th><th style=\"background:rgba(255.0, 13.0, 87.0, 0.18019409784115661)\">0.033</th></tr><tr><th>Ġin</th><th style=\"background:rgba(255.0, 13.0, 87.0, 0.14866310160427795)\">0.028</th></tr><tr><th>Ġthe</th><th style=\"background:rgba(255.0, 13.0, 87.0, 0.2117250940780353)\">0.038</th></tr><tr><th>Ġcapital</th><th style=\"background:rgba(255.0, 13.0, 87.0, 1.0)\">0.182</th></tr><tr><th>Ġof</th><th style=\"background:rgba(255.0, 13.0, 87.0, 0.3536145771439889)\">0.065</th></tr><tr><th>ĠTokyo</th><th style=\"background:rgba(0.0, 0.0, 0.0, 0.0)\"></th></tr></table>\n",
       "</div>\n",
       "\n",
       "        </div>\n",
       "    </div>\n",
       "</div>\n",
       "</html>\n"
      ],
      "text/plain": [
       "<IPython.core.display.HTML object>"
      ]
     },
     "metadata": {},
     "output_type": "display_data"
    }
   ],
   "source": [
    "model = inseq.load_model(\"gpt2\", \"saliency\") # saliency integrated_gradients\n",
    "out = model.attribute(text, generation_args={\"max_new_tokens\": 1}, n_steps=500, internal_batch_size=50, attribute_target=True,)\n",
    "out.show()"
   ]
  },
  {
   "cell_type": "code",
   "execution_count": 27,
   "metadata": {},
   "outputs": [
    {
     "name": "stderr",
     "output_type": "stream",
     "text": [
      "Unused arguments during attribution: {'n_steps': 500, 'internal_batch_size': 50}\n",
      "Attributing with saliency...: 100%|██████████| 3/3 [00:00<00:00, 57.37it/s]\n"
     ]
    },
    {
     "data": {
      "text/html": [
       "<br/><b>0th instance:</b><br/>\n",
       "<html>\n",
       "<div id=\"nzjovqwpsbfhcgchqjjf_viz_container\">\n",
       "    <div id=\"nzjovqwpsbfhcgchqjjf_content\" style=\"padding:15px;border-style:solid;margin:5px;\">\n",
       "        <div id = \"nzjovqwpsbfhcgchqjjf_saliency_plot_container\" class=\"nzjovqwpsbfhcgchqjjf_viz_container\" style=\"display:block\">\n",
       "            \n",
       "<div id=\"afqofpvausieyiccwpus_saliency_plot\" class=\"afqofpvausieyiccwpus_viz_content\">\n",
       "    <div style=\"margin:5px;font-family:sans-serif;font-weight:bold;\">\n",
       "        <span style=\"font-size: 20px;\">Source Saliency Heatmap</span>\n",
       "        <br>\n",
       "        x: Generated tokens, y: Attributed tokens\n",
       "    </div>\n",
       "    \n",
       "<table border=\"1\" cellpadding=\"5\" cellspacing=\"5\"\n",
       "    style=\"overflow-x:scroll;display:block;\">\n",
       "    <tr><th></th>\n",
       "<th>&lt;s&gt;</th><th>&lt;/s&gt;</th></tr><tr><th>&lt;s&gt;</th><th style=\"background:rgba(255.0, 13.0, 87.0, 0.04618736383442265)\">0.007</th><th style=\"background:rgba(255.0, 13.0, 87.0, 0.08560110913052081)\">0.012</th></tr><tr><th>When</th><th style=\"background:rgba(255.0, 13.0, 87.0, 0.07771836007130124)\">0.01</th><th style=\"background:rgba(255.0, 13.0, 87.0, 1.0)\">0.126</th></tr><tr><th>Ġmy</th><th style=\"background:rgba(255.0, 13.0, 87.0, 0.04618736383442265)\">0.006</th><th style=\"background:rgba(255.0, 13.0, 87.0, 0.17231134878193693)\">0.022</th></tr><tr><th>Ġflight</th><th style=\"background:rgba(255.0, 13.0, 87.0, 0.09348385818974037)\">0.013</th><th style=\"background:rgba(255.0, 13.0, 87.0, 0.219607843137255)\">0.028</th></tr><tr><th>Ġlanded</th><th style=\"background:rgba(255.0, 13.0, 87.0, 0.12501485442661908)\">0.016</th><th style=\"background:rgba(255.0, 13.0, 87.0, 0.1880768469003763)\">0.024</th></tr><tr><th>Ġin</th><th style=\"background:rgba(255.0, 13.0, 87.0, 0.05407011289364243)\">0.007</th><th style=\"background:rgba(255.0, 13.0, 87.0, 0.12501485442661908)\">0.016</th></tr><tr><th>ĠJapan</th><th style=\"background:rgba(255.0, 13.0, 87.0, 0.14866310160427795)\">0.019</th><th style=\"background:rgba(255.0, 13.0, 87.0, 0.49550406020994264)\">0.062</th></tr><tr><th>,</th><th style=\"background:rgba(255.0, 13.0, 87.0, 0.09348385818974037)\">0.012</th><th style=\"background:rgba(255.0, 13.0, 87.0, 0.12501485442661908)\">0.016</th></tr><tr><th>ĠI</th><th style=\"background:rgba(255.0, 13.0, 87.0, 0.08560110913052081)\">0.012</th><th style=\"background:rgba(255.0, 13.0, 87.0, 0.13289760348583876)\">0.017</th></tr><tr><th>Ġconverted</th><th style=\"background:rgba(255.0, 13.0, 87.0, 0.29843533372945136)\">0.038</th><th style=\"background:rgba(255.0, 13.0, 87.0, 0.24325609031491383)\">0.031</th></tr><tr><th>Ġmy</th><th style=\"background:rgba(255.0, 13.0, 87.0, 0.10924935630817992)\">0.014</th><th style=\"background:rgba(255.0, 13.0, 87.0, 0.15654585066349747)\">0.02</th></tr><tr><th>Ġcurrency</th><th style=\"background:rgba(255.0, 13.0, 87.0, 0.3536145771439889)\">0.044</th><th style=\"background:rgba(255.0, 13.0, 87.0, 0.3851455733808676)\">0.048</th></tr><tr><th>Ġand</th><th style=\"background:rgba(255.0, 13.0, 87.0, 0.18019409784115661)\">0.023</th><th style=\"background:rgba(255.0, 13.0, 87.0, 0.10924935630817992)\">0.014</th></tr><tr><th>Ġslowly</th><th style=\"background:rgba(255.0, 13.0, 87.0, 0.14078035254505847)\">0.019</th><th style=\"background:rgba(255.0, 13.0, 87.0, 0.15654585066349747)\">0.02</th></tr><tr><th>Ġfell</th><th style=\"background:rgba(255.0, 13.0, 87.0, 0.10924935630817992)\">0.014</th><th style=\"background:rgba(255.0, 13.0, 87.0, 0.1171321053673995)\">0.015</th></tr><tr><th>Ġasleep</th><th style=\"background:rgba(255.0, 13.0, 87.0, 0.12501485442661908)\">0.017</th><th style=\"background:rgba(255.0, 13.0, 87.0, 0.14866310160427795)\">0.019</th></tr><tr><th>.</th><th style=\"background:rgba(255.0, 13.0, 87.0, 0.22749059219647458)\">0.029</th><th style=\"background:rgba(255.0, 13.0, 87.0, 0.2117250940780353)\">0.027</th></tr><tr><th>Ġ(</th><th style=\"background:rgba(255.0, 13.0, 87.0, 0.39302832244008706)\">0.049</th><th style=\"background:rgba(255.0, 13.0, 87.0, 0.24325609031491383)\">0.031</th></tr><tr><th>I</th><th style=\"background:rgba(255.0, 13.0, 87.0, 0.10136660724896006)\">0.013</th><th style=\"background:rgba(255.0, 13.0, 87.0, 0.1171321053673995)\">0.015</th></tr><tr><th>Ġhad</th><th style=\"background:rgba(255.0, 13.0, 87.0, 0.14078035254505847)\">0.018</th><th style=\"background:rgba(255.0, 13.0, 87.0, 0.09348385818974037)\">0.012</th></tr><tr><th>Ġa</th><th style=\"background:rgba(255.0, 13.0, 87.0, 0.08560110913052081)\">0.011</th><th style=\"background:rgba(255.0, 13.0, 87.0, 0.07771836007130124)\">0.01</th></tr><tr><th>Ġterrifying</th><th style=\"background:rgba(255.0, 13.0, 87.0, 0.15654585066349747)\">0.02</th><th style=\"background:rgba(255.0, 13.0, 87.0, 0.17231134878193693)\">0.022</th></tr><tr><th>Ġdream</th><th style=\"background:rgba(255.0, 13.0, 87.0, 0.16442859972271742)\">0.021</th><th style=\"background:rgba(255.0, 13.0, 87.0, 0.14866310160427795)\">0.019</th></tr><tr><th>Ġabout</th><th style=\"background:rgba(255.0, 13.0, 87.0, 0.08560110913052081)\">0.012</th><th style=\"background:rgba(255.0, 13.0, 87.0, 0.06983561101208159)\">0.01</th></tr><tr><th>Ġmy</th><th style=\"background:rgba(255.0, 13.0, 87.0, 0.06195286195286207)\">0.008</th><th style=\"background:rgba(255.0, 13.0, 87.0, 0.09348385818974037)\">0.012</th></tr><tr><th>Ġgrandmother</th><th style=\"background:rgba(255.0, 13.0, 87.0, 0.13289760348583876)\">0.017</th><th style=\"background:rgba(255.0, 13.0, 87.0, 0.14078035254505847)\">0.019</th></tr><tr><th>,</th><th style=\"background:rgba(255.0, 13.0, 87.0, 0.13289760348583876)\">0.017</th><th style=\"background:rgba(255.0, 13.0, 87.0, 0.09348385818974037)\">0.012</th></tr><tr><th>Ġbut</th><th style=\"background:rgba(255.0, 13.0, 87.0, 0.1959595959595959)\">0.025</th><th style=\"background:rgba(255.0, 13.0, 87.0, 0.06983561101208159)\">0.01</th></tr><tr><th>Ġthat</th><th style=\"background:rgba(255.0, 13.0, 87.0, 0.3457318280847692)\">0.043</th><th style=\"background:rgba(255.0, 13.0, 87.0, 0.08560110913052081)\">0.012</th></tr><tr><th>âĢ</th><th style=\"background:rgba(255.0, 13.0, 87.0, 0.1880768469003763)\">0.024</th><th style=\"background:rgba(255.0, 13.0, 87.0, 0.1171321053673995)\">0.015</th></tr><tr><th>Ļ</th><th style=\"background:rgba(255.0, 13.0, 87.0, 0.1880768469003763)\">0.024</th><th style=\"background:rgba(255.0, 13.0, 87.0, 0.20384234501881549)\">0.026</th></tr><tr><th>s</th><th style=\"background:rgba(255.0, 13.0, 87.0, 0.4245593186769657)\">0.053</th><th style=\"background:rgba(255.0, 13.0, 87.0, 0.09348385818974037)\">0.012</th></tr><tr><th>Ġa</th><th style=\"background:rgba(255.0, 13.0, 87.0, 0.2826698356110118)\">0.035</th><th style=\"background:rgba(255.0, 13.0, 87.0, 0.07771836007130124)\">0.01</th></tr><tr><th>Ġstory</th><th style=\"background:rgba(255.0, 13.0, 87.0, 0.33784907902554967)\">0.042</th><th style=\"background:rgba(255.0, 13.0, 87.0, 0.14078035254505847)\">0.018</th></tr><tr><th>Ġfor</th><th style=\"background:rgba(255.0, 13.0, 87.0, 0.18019409784115661)\">0.023</th><th style=\"background:rgba(255.0, 13.0, 87.0, 0.06195286195286207)\">0.009</th></tr><tr><th>Ġanother</th><th style=\"background:rgba(255.0, 13.0, 87.0, 0.1959595959595959)\">0.025</th><th style=\"background:rgba(255.0, 13.0, 87.0, 0.06195286195286207)\">0.009</th></tr><tr><th>Ġtime</th><th style=\"background:rgba(255.0, 13.0, 87.0, 0.18019409784115661)\">0.023</th><th style=\"background:rgba(255.0, 13.0, 87.0, 0.06983561101208159)\">0.01</th></tr><tr><th>).</th><th style=\"background:rgba(255.0, 13.0, 87.0, 0.22749059219647458)\">0.029</th><th style=\"background:rgba(255.0, 13.0, 87.0, 0.24325609031491383)\">0.031</th></tr><tr><th>ĠI</th><th style=\"background:rgba(255.0, 13.0, 87.0, 0.08560110913052081)\">0.012</th><th style=\"background:rgba(255.0, 13.0, 87.0, 0.16442859972271742)\">0.022</th></tr><tr><th>Ġwas</th><th style=\"background:rgba(255.0, 13.0, 87.0, 0.08560110913052081)\">0.012</th><th style=\"background:rgba(255.0, 13.0, 87.0, 0.10924935630817992)\">0.014</th></tr><tr><th>Ġstaying</th><th style=\"background:rgba(255.0, 13.0, 87.0, 0.07771836007130124)\">0.011</th><th style=\"background:rgba(255.0, 13.0, 87.0, 0.12501485442661908)\">0.016</th></tr><tr><th>Ġin</th><th style=\"background:rgba(255.0, 13.0, 87.0, 0.06195286195286207)\">0.008</th><th style=\"background:rgba(255.0, 13.0, 87.0, 0.08560110913052081)\">0.011</th></tr><tr><th>Ġthe</th><th style=\"background:rgba(255.0, 13.0, 87.0, 0.06983561101208159)\">0.009</th><th style=\"background:rgba(255.0, 13.0, 87.0, 0.10136660724896006)\">0.013</th></tr><tr><th>Ġcapital</th><th style=\"background:rgba(255.0, 13.0, 87.0, 0.1880768469003763)\">0.024</th><th style=\"background:rgba(255.0, 13.0, 87.0, 0.17231134878193693)\">0.022</th></tr><tr><th>Ġof</th><th style=\"background:rgba(255.0, 13.0, 87.0, 0.4087938205585263)\">0.051</th><th style=\"background:rgba(255.0, 13.0, 87.0, 0.24325609031491383)\">0.031</th></tr><tr><th>&lt;/s&gt;</th><th style=\"background:rgba(255.0, 13.0, 87.0, 0.3142008318478907)\">0.04</th><th style=\"background:rgba(255.0, 13.0, 87.0, 0.26690433749257286)\">0.034</th></tr></table>\n",
       "</div>\n",
       "\n",
       "        </div>\n",
       "    </div>\n",
       "</div>\n",
       "</html>\n"
      ],
      "text/plain": [
       "<IPython.core.display.HTML object>"
      ]
     },
     "metadata": {},
     "output_type": "display_data"
    }
   ],
   "source": [
    "model = inseq.load_model(\"facebook/bart-base\", \"saliency\")\n",
    "out = model.attribute(text, generation_args={\"max_new_tokens\": 1}, n_steps=500, internal_batch_size=50)\n",
    "out.show()"
   ]
  },
  {
   "cell_type": "code",
   "execution_count": 1,
   "metadata": {},
   "outputs": [
    {
     "name": "stderr",
     "output_type": "stream",
     "text": [
      "/home/cass/anaconda3/envs/eva/lib/python3.11/site-packages/tqdm/auto.py:21: TqdmWarning: IProgress not found. Please update jupyter and ipywidgets. See https://ipywidgets.readthedocs.io/en/stable/user_install.html\n",
      "  from .autonotebook import tqdm as notebook_tqdm\n",
      "2023-07-17 08:57:10.228590: I tensorflow/core/util/port.cc:110] oneDNN custom operations are on. You may see slightly different numerical results due to floating-point round-off errors from different computation orders. To turn them off, set the environment variable `TF_ENABLE_ONEDNN_OPTS=0`.\n",
      "2023-07-17 08:57:10.443332: I tensorflow/core/platform/cpu_feature_guard.cc:182] This TensorFlow binary is optimized to use available CPU instructions in performance-critical operations.\n",
      "To enable the following instructions: AVX2 AVX512F AVX512_VNNI FMA, in other operations, rebuild TensorFlow with the appropriate compiler flags.\n",
      "2023-07-17 08:57:11.271559: W tensorflow/compiler/tf2tensorrt/utils/py_utils.cc:38] TF-TRT Warning: Could not find TensorRT\n",
      "Downloading (…)lve/main/config.json: 100%|██████████| 1.42k/1.42k [00:00<00:00, 1.87MB/s]\n",
      "Downloading pytorch_model.bin: 100%|██████████| 301M/301M [00:24<00:00, 12.1MB/s] \n",
      "Downloading (…)neration_config.json: 100%|██████████| 293/293 [00:00<00:00, 273kB/s]\n",
      "Downloading (…)okenizer_config.json: 100%|██████████| 42.0/42.0 [00:00<00:00, 43.7kB/s]\n",
      "Downloading (…)olve/main/source.spm: 100%|██████████| 778k/778k [00:00<00:00, 8.26MB/s]\n",
      "Downloading (…)olve/main/target.spm: 100%|██████████| 802k/802k [00:00<00:00, 2.55MB/s]\n",
      "Downloading (…)olve/main/vocab.json: 100%|██████████| 1.34M/1.34M [00:00<00:00, 3.52MB/s]\n",
      "/home/cass/anaconda3/envs/eva/lib/python3.11/site-packages/transformers/generation/utils.py:1186: UserWarning: You have modified the pretrained model configuration to control generation. This is a deprecated strategy to control generation and will be removed soon, in a future version. Please use a generation configuration file (see https://huggingface.co/docs/transformers/main_classes/text_generation)\n",
      "  warnings.warn(\n",
      "/home/cass/anaconda3/envs/eva/lib/python3.11/site-packages/transformers/generation/utils.py:1273: UserWarning: Neither `max_length` nor `max_new_tokens` has been set, `max_length` will default to 512 (`generation_config.max_length`). Controlling `max_length` via the config is deprecated and `max_length` will be removed from the config in v5 of Transformers -- we recommend using `max_new_tokens` to control the maximum length of the generation.\n",
      "  warnings.warn(\n",
      "Attributing with integrated_gradients...: 100%|██████████| 22/22 [00:06<00:00,  3.14it/s]\n"
     ]
    },
    {
     "data": {
      "text/html": [
       "<br/><b>0th instance:</b><br/>\n",
       "<html>\n",
       "<div id=\"igfywirkxlggogpxkfzn_viz_container\">\n",
       "    <div id=\"igfywirkxlggogpxkfzn_content\" style=\"padding:15px;border-style:solid;margin:5px;\">\n",
       "        <div id = \"igfywirkxlggogpxkfzn_saliency_plot_container\" class=\"igfywirkxlggogpxkfzn_viz_container\" style=\"display:block\">\n",
       "            \n",
       "<div id=\"qjjfgyqpesejzqorvufa_saliency_plot\" class=\"qjjfgyqpesejzqorvufa_viz_content\">\n",
       "    <div style=\"margin:5px;font-family:sans-serif;font-weight:bold;\">\n",
       "        <span style=\"font-size: 20px;\">Source Saliency Heatmap</span>\n",
       "        <br>\n",
       "        x: Generated tokens, y: Attributed tokens\n",
       "    </div>\n",
       "    \n",
       "<table border=\"1\" cellpadding=\"5\" cellspacing=\"5\"\n",
       "    style=\"overflow-x:scroll;display:block;\">\n",
       "    <tr><th></th>\n",
       "<th>▁Le</th><th>▁développeur</th><th>▁s</th><th>'</th><th>est</th><th>▁disputé</th><th>▁avec</th><th>▁la</th><th>▁designer</th><th>▁parce</th><th>▁qu</th><th>'</th><th>elle</th><th>▁n</th><th>'</th><th>aimait</th><th>▁pas</th><th>▁le</th><th>▁design</th><th>.</th><th>&lt;/s&gt;</th></tr><tr><th>▁The</th><th style=\"background:rgba(255.0, 13.0, 87.0, 0.3772628243216479)\">0.157</th><th style=\"background:rgba(255.0, 13.0, 87.0, 0.18019409784115661)\">0.076</th><th style=\"background:rgba(255.0, 13.0, 87.0, 0.10924935630817992)\">0.047</th><th style=\"background:rgba(255.0, 13.0, 87.0, 0.22749059219647458)\">0.095</th><th style=\"background:rgba(255.0, 13.0, 87.0, 0.13289760348583876)\">0.055</th><th style=\"background:rgba(255.0, 13.0, 87.0, 0.09348385818974037)\">0.042</th><th style=\"background:rgba(255.0, 13.0, 87.0, 0.26690433749257286)\">0.111</th><th style=\"background:rgba(255.0, 13.0, 87.0, 0.04618736383442265)\">0.022</th><th style=\"background:rgba(255.0, 13.0, 87.0, 0.05407011289364243)\">0.023</th><th style=\"background:rgba(255.0, 13.0, 87.0, 0.06983561101208159)\">0.03</th><th style=\"background:rgba(255.0, 13.0, 87.0, 0.06195286195286207)\">0.029</th><th style=\"background:rgba(255.0, 13.0, 87.0, 0.09348385818974037)\">0.042</th><th style=\"background:rgba(255.0, 13.0, 87.0, 0.16442859972271742)\">0.069</th><th style=\"background:rgba(255.0, 13.0, 87.0, 0.03830461477520289)\">0.017</th><th style=\"background:rgba(255.0, 13.0, 87.0, 0.10136660724896006)\">0.045</th><th style=\"background:rgba(255.0, 13.0, 87.0, 0.06195286195286207)\">0.026</th><th style=\"background:rgba(255.0, 13.0, 87.0, 0.07771836007130124)\">0.033</th><th style=\"background:rgba(255.0, 13.0, 87.0, 0.12501485442661908)\">0.053</th><th style=\"background:rgba(255.0, 13.0, 87.0, 0.06195286195286207)\">0.027</th><th style=\"background:rgba(255.0, 13.0, 87.0, 0.05407011289364243)\">0.023</th><th style=\"background:rgba(255.0, 13.0, 87.0, 0.16442859972271742)\">0.07</th></tr><tr><th>▁developer</th><th style=\"background:rgba(255.0, 13.0, 87.0, 0.755634779164191)\">0.312</th><th style=\"background:rgba(255.0, 13.0, 87.0, 1.0)\">0.415</th><th style=\"background:rgba(255.0, 13.0, 87.0, 0.23537334125569415)\">0.099</th><th style=\"background:rgba(255.0, 13.0, 87.0, 0.20384234501881549)\">0.086</th><th style=\"background:rgba(255.0, 13.0, 87.0, 0.219607843137255)\">0.093</th><th style=\"background:rgba(255.0, 13.0, 87.0, 0.2117250940780353)\">0.09</th><th style=\"background:rgba(255.0, 13.0, 87.0, 0.1880768469003763)\">0.079</th><th style=\"background:rgba(255.0, 13.0, 87.0, 0.23537334125569415)\">0.099</th><th style=\"background:rgba(255.0, 13.0, 87.0, 0.18019409784115661)\">0.075</th><th style=\"background:rgba(255.0, 13.0, 87.0, 0.23537334125569415)\">0.099</th><th style=\"background:rgba(255.0, 13.0, 87.0, 0.08560110913052081)\">0.037</th><th style=\"background:rgba(255.0, 13.0, 87.0, 0.20384234501881549)\">0.084</th><th style=\"background:rgba(255.0, 13.0, 87.0, 0.14078035254505847)\">0.059</th><th style=\"background:rgba(255.0, 13.0, 87.0, 0.06195286195286207)\">0.026</th><th style=\"background:rgba(255.0, 13.0, 87.0, 0.13289760348583876)\">0.057</th><th style=\"background:rgba(255.0, 13.0, 87.0, 0.10136660724896006)\">0.043</th><th style=\"background:rgba(255.0, 13.0, 87.0, 0.06983561101208159)\">0.03</th><th style=\"background:rgba(255.0, 13.0, 87.0, 0.18019409784115661)\">0.077</th><th style=\"background:rgba(255.0, 13.0, 87.0, 0.2511388393741335)\">0.105</th><th style=\"background:rgba(255.0, 13.0, 87.0, 0.08560110913052081)\">0.036</th><th style=\"background:rgba(255.0, 13.0, 87.0, 0.17231134878193693)\">0.072</th></tr><tr><th>▁argued</th><th style=\"background:rgba(255.0, 13.0, 87.0, 0.20384234501881549)\">0.085</th><th style=\"background:rgba(255.0, 13.0, 87.0, 0.2117250940780353)\">0.088</th><th style=\"background:rgba(255.0, 13.0, 87.0, 0.9842345018815607)\">0.407</th><th style=\"background:rgba(255.0, 13.0, 87.0, 0.4560903149138443)\">0.189</th><th style=\"background:rgba(255.0, 13.0, 87.0, 0.4560903149138443)\">0.19</th><th style=\"background:rgba(255.0, 13.0, 87.0, 1.0)\">0.414</th><th style=\"background:rgba(255.0, 13.0, 87.0, 0.5349178055060405)\">0.221</th><th style=\"background:rgba(255.0, 13.0, 87.0, 0.10136660724896006)\">0.044</th><th style=\"background:rgba(255.0, 13.0, 87.0, 0.14078035254505847)\">0.059</th><th style=\"background:rgba(255.0, 13.0, 87.0, 0.24325609031491383)\">0.101</th><th style=\"background:rgba(255.0, 13.0, 87.0, 0.08560110913052081)\">0.038</th><th style=\"background:rgba(255.0, 13.0, 87.0, 0.2590215884333532)\">0.108</th><th style=\"background:rgba(255.0, 13.0, 87.0, 0.09348385818974037)\">0.04</th><th style=\"background:rgba(255.0, 13.0, 87.0, 0.04618736383442265)\">0.021</th><th style=\"background:rgba(255.0, 13.0, 87.0, 0.1880768469003763)\">0.078</th><th style=\"background:rgba(255.0, 13.0, 87.0, 0.09348385818974037)\">0.042</th><th style=\"background:rgba(255.0, 13.0, 87.0, 0.05407011289364243)\">0.025</th><th style=\"background:rgba(255.0, 13.0, 87.0, 0.18019409784115661)\">0.076</th><th style=\"background:rgba(255.0, 13.0, 87.0, 0.1880768469003763)\">0.079</th><th style=\"background:rgba(255.0, 13.0, 87.0, 0.07771836007130124)\">0.033</th><th style=\"background:rgba(255.0, 13.0, 87.0, 0.1171321053673995)\">0.05</th></tr><tr><th>▁with</th><th style=\"background:rgba(255.0, 13.0, 87.0, 0.05407011289364243)\">0.025</th><th style=\"background:rgba(255.0, 13.0, 87.0, 0.06983561101208159)\">0.03</th><th style=\"background:rgba(255.0, 13.0, 87.0, 0.2511388393741335)\">0.104</th><th style=\"background:rgba(255.0, 13.0, 87.0, 0.14078035254505847)\">0.06</th><th style=\"background:rgba(255.0, 13.0, 87.0, 0.1171321053673995)\">0.05</th><th style=\"background:rgba(255.0, 13.0, 87.0, 0.2747870865517925)\">0.114</th><th style=\"background:rgba(255.0, 13.0, 87.0, 0.55068330362448)\">0.228</th><th style=\"background:rgba(255.0, 13.0, 87.0, 0.07771836007130124)\">0.032</th><th style=\"background:rgba(255.0, 13.0, 87.0, 0.09348385818974037)\">0.04</th><th style=\"background:rgba(255.0, 13.0, 87.0, 0.14078035254505847)\">0.059</th><th style=\"background:rgba(255.0, 13.0, 87.0, 0.04618736383442265)\">0.022</th><th style=\"background:rgba(255.0, 13.0, 87.0, 0.09348385818974037)\">0.04</th><th style=\"background:rgba(255.0, 13.0, 87.0, 0.06983561101208159)\">0.03</th><th style=\"background:rgba(255.0, 13.0, 87.0, 0.030421865715983164)\">0.015</th><th style=\"background:rgba(255.0, 13.0, 87.0, 0.07771836007130124)\">0.033</th><th style=\"background:rgba(255.0, 13.0, 87.0, 0.05407011289364243)\">0.026</th><th style=\"background:rgba(255.0, 13.0, 87.0, 0.05407011289364243)\">0.023</th><th style=\"background:rgba(255.0, 13.0, 87.0, 0.09348385818974037)\">0.041</th><th style=\"background:rgba(255.0, 13.0, 87.0, 0.06983561101208159)\">0.029</th><th style=\"background:rgba(255.0, 13.0, 87.0, 0.06983561101208159)\">0.031</th><th style=\"background:rgba(255.0, 13.0, 87.0, 0.10136660724896006)\">0.043</th></tr><tr><th>▁the</th><th style=\"background:rgba(255.0, 13.0, 87.0, 0.07771836007130124)\">0.035</th><th style=\"background:rgba(255.0, 13.0, 87.0, 0.1171321053673995)\">0.049</th><th style=\"background:rgba(255.0, 13.0, 87.0, 0.12501485442661908)\">0.054</th><th style=\"background:rgba(255.0, 13.0, 87.0, 0.10924935630817992)\">0.047</th><th style=\"background:rgba(255.0, 13.0, 87.0, 0.07771836007130124)\">0.032</th><th style=\"background:rgba(255.0, 13.0, 87.0, 0.12501485442661908)\">0.054</th><th style=\"background:rgba(255.0, 13.0, 87.0, 0.2117250940780353)\">0.09</th><th style=\"background:rgba(255.0, 13.0, 87.0, 0.22749059219647458)\">0.095</th><th style=\"background:rgba(255.0, 13.0, 87.0, 0.26690433749257286)\">0.111</th><th style=\"background:rgba(255.0, 13.0, 87.0, 0.6610417904535549)\">0.273</th><th style=\"background:rgba(255.0, 13.0, 87.0, 0.06195286195286207)\">0.026</th><th style=\"background:rgba(255.0, 13.0, 87.0, 0.13289760348583876)\">0.057</th><th style=\"background:rgba(255.0, 13.0, 87.0, 0.05407011289364243)\">0.024</th><th style=\"background:rgba(255.0, 13.0, 87.0, 0.030421865715983164)\">0.015</th><th style=\"background:rgba(255.0, 13.0, 87.0, 0.06195286195286207)\">0.027</th><th style=\"background:rgba(255.0, 13.0, 87.0, 0.07771836007130124)\">0.033</th><th style=\"background:rgba(255.0, 13.0, 87.0, 0.04618736383442265)\">0.019</th><th style=\"background:rgba(255.0, 13.0, 87.0, 0.09348385818974037)\">0.04</th><th style=\"background:rgba(255.0, 13.0, 87.0, 0.08560110913052081)\">0.038</th><th style=\"background:rgba(255.0, 13.0, 87.0, 0.10924935630817992)\">0.047</th><th style=\"background:rgba(255.0, 13.0, 87.0, 0.08560110913052081)\">0.038</th></tr><tr><th>▁designer</th><th style=\"background:rgba(255.0, 13.0, 87.0, 0.10924935630817992)\">0.046</th><th style=\"background:rgba(255.0, 13.0, 87.0, 0.17231134878193693)\">0.072</th><th style=\"background:rgba(255.0, 13.0, 87.0, 0.1171321053673995)\">0.05</th><th style=\"background:rgba(255.0, 13.0, 87.0, 0.14078035254505847)\">0.059</th><th style=\"background:rgba(255.0, 13.0, 87.0, 0.08560110913052081)\">0.036</th><th style=\"background:rgba(255.0, 13.0, 87.0, 0.12501485442661908)\">0.054</th><th style=\"background:rgba(255.0, 13.0, 87.0, 0.10136660724896006)\">0.045</th><th style=\"background:rgba(255.0, 13.0, 87.0, 0.7083382848088731)\">0.293</th><th style=\"background:rgba(255.0, 13.0, 87.0, 1.0)\">0.413</th><th style=\"background:rgba(255.0, 13.0, 87.0, 0.2511388393741335)\">0.104</th><th style=\"background:rgba(255.0, 13.0, 87.0, 0.14866310160427795)\">0.062</th><th style=\"background:rgba(255.0, 13.0, 87.0, 0.219607843137255)\">0.093</th><th style=\"background:rgba(255.0, 13.0, 87.0, 0.08560110913052081)\">0.038</th><th style=\"background:rgba(255.0, 13.0, 87.0, 0.06983561101208159)\">0.029</th><th style=\"background:rgba(255.0, 13.0, 87.0, 0.13289760348583876)\">0.057</th><th style=\"background:rgba(255.0, 13.0, 87.0, 0.09348385818974037)\">0.039</th><th style=\"background:rgba(255.0, 13.0, 87.0, 0.08560110913052081)\">0.038</th><th style=\"background:rgba(255.0, 13.0, 87.0, 0.3299663299663301)\">0.138</th><th style=\"background:rgba(255.0, 13.0, 87.0, 0.2826698356110118)\">0.118</th><th style=\"background:rgba(255.0, 13.0, 87.0, 0.17231134878193693)\">0.072</th><th style=\"background:rgba(255.0, 13.0, 87.0, 0.14078035254505847)\">0.061</th></tr><tr><th>▁because</th><th style=\"background:rgba(255.0, 13.0, 87.0, 0.08560110913052081)\">0.038</th><th style=\"background:rgba(255.0, 13.0, 87.0, 0.05407011289364243)\">0.025</th><th style=\"background:rgba(255.0, 13.0, 87.0, 0.09348385818974037)\">0.041</th><th style=\"background:rgba(255.0, 13.0, 87.0, 0.12501485442661908)\">0.053</th><th style=\"background:rgba(255.0, 13.0, 87.0, 0.13289760348583876)\">0.055</th><th style=\"background:rgba(255.0, 13.0, 87.0, 0.08560110913052081)\">0.036</th><th style=\"background:rgba(255.0, 13.0, 87.0, 0.07771836007130124)\">0.035</th><th style=\"background:rgba(255.0, 13.0, 87.0, 0.12501485442661908)\">0.054</th><th style=\"background:rgba(255.0, 13.0, 87.0, 0.10136660724896006)\">0.043</th><th style=\"background:rgba(255.0, 13.0, 87.0, 0.29843533372945136)\">0.125</th><th style=\"background:rgba(255.0, 13.0, 87.0, 0.2747870865517925)\">0.114</th><th style=\"background:rgba(255.0, 13.0, 87.0, 0.219607843137255)\">0.092</th><th style=\"background:rgba(255.0, 13.0, 87.0, 0.17231134878193693)\">0.073</th><th style=\"background:rgba(255.0, 13.0, 87.0, 0.08560110913052081)\">0.037</th><th style=\"background:rgba(255.0, 13.0, 87.0, 0.10924935630817992)\">0.046</th><th style=\"background:rgba(255.0, 13.0, 87.0, 0.10136660724896006)\">0.045</th><th style=\"background:rgba(255.0, 13.0, 87.0, 0.18019409784115661)\">0.075</th><th style=\"background:rgba(255.0, 13.0, 87.0, 0.06195286195286207)\">0.029</th><th style=\"background:rgba(255.0, 13.0, 87.0, 0.06195286195286207)\">0.028</th><th style=\"background:rgba(255.0, 13.0, 87.0, 0.05407011289364243)\">0.026</th><th style=\"background:rgba(255.0, 13.0, 87.0, 0.14078035254505847)\">0.06</th></tr><tr><th>▁she</th><th style=\"background:rgba(255.0, 13.0, 87.0, 0.33784907902554967)\">0.142</th><th style=\"background:rgba(255.0, 13.0, 87.0, 0.13289760348583876)\">0.056</th><th style=\"background:rgba(255.0, 13.0, 87.0, 0.07771836007130124)\">0.034</th><th style=\"background:rgba(255.0, 13.0, 87.0, 0.17231134878193693)\">0.071</th><th style=\"background:rgba(255.0, 13.0, 87.0, 0.14078035254505847)\">0.059</th><th style=\"background:rgba(255.0, 13.0, 87.0, 0.08560110913052081)\">0.038</th><th style=\"background:rgba(255.0, 13.0, 87.0, 0.12501485442661908)\">0.054</th><th style=\"background:rgba(255.0, 13.0, 87.0, 0.44820756585462457)\">0.186</th><th style=\"background:rgba(255.0, 13.0, 87.0, 0.17231134878193693)\">0.073</th><th style=\"background:rgba(255.0, 13.0, 87.0, 0.10136660724896006)\">0.043</th><th style=\"background:rgba(255.0, 13.0, 87.0, 0.7004555357496535)\">0.289</th><th style=\"background:rgba(255.0, 13.0, 87.0, 0.20384234501881549)\">0.084</th><th style=\"background:rgba(255.0, 13.0, 87.0, 0.9290552584670234)\">0.385</th><th style=\"background:rgba(255.0, 13.0, 87.0, 0.10136660724896006)\">0.045</th><th style=\"background:rgba(255.0, 13.0, 87.0, 0.14866310160427795)\">0.063</th><th style=\"background:rgba(255.0, 13.0, 87.0, 0.10924935630817992)\">0.046</th><th style=\"background:rgba(255.0, 13.0, 87.0, 0.10924935630817992)\">0.047</th><th style=\"background:rgba(255.0, 13.0, 87.0, 0.09348385818974037)\">0.039</th><th style=\"background:rgba(255.0, 13.0, 87.0, 0.1171321053673995)\">0.051</th><th style=\"background:rgba(255.0, 13.0, 87.0, 0.08560110913052081)\">0.039</th><th style=\"background:rgba(255.0, 13.0, 87.0, 0.15654585066349747)\">0.068</th></tr><tr><th>▁did</th><th style=\"background:rgba(255.0, 13.0, 87.0, 0.07771836007130124)\">0.036</th><th style=\"background:rgba(255.0, 13.0, 87.0, 0.06983561101208159)\">0.031</th><th style=\"background:rgba(255.0, 13.0, 87.0, 0.06195286195286207)\">0.027</th><th style=\"background:rgba(255.0, 13.0, 87.0, 0.1171321053673995)\">0.052</th><th style=\"background:rgba(255.0, 13.0, 87.0, 0.5112695583283818)\">0.211</th><th style=\"background:rgba(255.0, 13.0, 87.0, 0.05407011289364243)\">0.024</th><th style=\"background:rgba(255.0, 13.0, 87.0, 0.06195286195286207)\">0.027</th><th style=\"background:rgba(255.0, 13.0, 87.0, 0.07771836007130124)\">0.035</th><th style=\"background:rgba(255.0, 13.0, 87.0, 0.06195286195286207)\">0.028</th><th style=\"background:rgba(255.0, 13.0, 87.0, 0.07771836007130124)\">0.033</th><th style=\"background:rgba(255.0, 13.0, 87.0, 0.44032481679540497)\">0.182</th><th style=\"background:rgba(255.0, 13.0, 87.0, 0.2826698356110118)\">0.12</th><th style=\"background:rgba(255.0, 13.0, 87.0, 0.26690433749257286)\">0.112</th><th style=\"background:rgba(255.0, 13.0, 87.0, 0.39302832244008706)\">0.163</th><th style=\"background:rgba(255.0, 13.0, 87.0, 0.33784907902554967)\">0.14</th><th style=\"background:rgba(255.0, 13.0, 87.0, 0.43244206773618543)\">0.179</th><th style=\"background:rgba(255.0, 13.0, 87.0, 0.1959595959595959)\">0.083</th><th style=\"background:rgba(255.0, 13.0, 87.0, 0.06195286195286207)\">0.027</th><th style=\"background:rgba(255.0, 13.0, 87.0, 0.10136660724896006)\">0.044</th><th style=\"background:rgba(255.0, 13.0, 87.0, 0.06195286195286207)\">0.028</th><th style=\"background:rgba(255.0, 13.0, 87.0, 0.09348385818974037)\">0.042</th></tr><tr><th>▁not</th><th style=\"background:rgba(255.0, 13.0, 87.0, 0.03830461477520289)\">0.017</th><th style=\"background:rgba(255.0, 13.0, 87.0, 0.03830461477520289)\">0.019</th><th style=\"background:rgba(255.0, 13.0, 87.0, 0.06195286195286207)\">0.026</th><th style=\"background:rgba(255.0, 13.0, 87.0, 0.09348385818974037)\">0.041</th><th style=\"background:rgba(255.0, 13.0, 87.0, 0.2590215884333532)\">0.11</th><th style=\"background:rgba(255.0, 13.0, 87.0, 0.05407011289364243)\">0.025</th><th style=\"background:rgba(255.0, 13.0, 87.0, 0.04618736383442265)\">0.022</th><th style=\"background:rgba(255.0, 13.0, 87.0, 0.05407011289364243)\">0.023</th><th style=\"background:rgba(255.0, 13.0, 87.0, 0.030421865715983164)\">0.016</th><th style=\"background:rgba(255.0, 13.0, 87.0, 0.05407011289364243)\">0.024</th><th style=\"background:rgba(255.0, 13.0, 87.0, 0.17231134878193693)\">0.074</th><th style=\"background:rgba(255.0, 13.0, 87.0, 0.14078035254505847)\">0.059</th><th style=\"background:rgba(255.0, 13.0, 87.0, 0.10924935630817992)\">0.048</th><th style=\"background:rgba(255.0, 13.0, 87.0, 0.9369380075262429)\">0.388</th><th style=\"background:rgba(255.0, 13.0, 87.0, 0.44820756585462457)\">0.186</th><th style=\"background:rgba(255.0, 13.0, 87.0, 0.33784907902554967)\">0.141</th><th style=\"background:rgba(255.0, 13.0, 87.0, 0.5664488017429193)\">0.234</th><th style=\"background:rgba(255.0, 13.0, 87.0, 0.06195286195286207)\">0.026</th><th style=\"background:rgba(255.0, 13.0, 87.0, 0.07771836007130124)\">0.034</th><th style=\"background:rgba(255.0, 13.0, 87.0, 0.07771836007130124)\">0.033</th><th style=\"background:rgba(255.0, 13.0, 87.0, 0.13289760348583876)\">0.056</th></tr><tr><th>▁like</th><th style=\"background:rgba(255.0, 13.0, 87.0, 0.06195286195286207)\">0.027</th><th style=\"background:rgba(255.0, 13.0, 87.0, 0.06195286195286207)\">0.027</th><th style=\"background:rgba(255.0, 13.0, 87.0, 0.05407011289364243)\">0.024</th><th style=\"background:rgba(255.0, 13.0, 87.0, 0.1880768469003763)\">0.078</th><th style=\"background:rgba(255.0, 13.0, 87.0, 0.08560110913052081)\">0.036</th><th style=\"background:rgba(255.0, 13.0, 87.0, 0.06195286195286207)\">0.027</th><th style=\"background:rgba(255.0, 13.0, 87.0, 0.05407011289364243)\">0.026</th><th style=\"background:rgba(255.0, 13.0, 87.0, 0.09348385818974037)\">0.041</th><th style=\"background:rgba(255.0, 13.0, 87.0, 0.03830461477520289)\">0.019</th><th style=\"background:rgba(255.0, 13.0, 87.0, 0.06195286195286207)\">0.026</th><th style=\"background:rgba(255.0, 13.0, 87.0, 0.12501485442661908)\">0.054</th><th style=\"background:rgba(255.0, 13.0, 87.0, 0.10924935630817992)\">0.047</th><th style=\"background:rgba(255.0, 13.0, 87.0, 0.08560110913052081)\">0.037</th><th style=\"background:rgba(255.0, 13.0, 87.0, 0.3772628243216479)\">0.159</th><th style=\"background:rgba(255.0, 13.0, 87.0, 0.2590215884333532)\">0.108</th><th style=\"background:rgba(255.0, 13.0, 87.0, 0.5270350564468211)\">0.218</th><th style=\"background:rgba(255.0, 13.0, 87.0, 0.3772628243216479)\">0.159</th><th style=\"background:rgba(255.0, 13.0, 87.0, 0.1171321053673995)\">0.051</th><th style=\"background:rgba(255.0, 13.0, 87.0, 0.14866310160427795)\">0.064</th><th style=\"background:rgba(255.0, 13.0, 87.0, 0.16442859972271742)\">0.069</th><th style=\"background:rgba(255.0, 13.0, 87.0, 0.14866310160427795)\">0.063</th></tr><tr><th>▁the</th><th style=\"background:rgba(255.0, 13.0, 87.0, 0.06983561101208159)\">0.029</th><th style=\"background:rgba(255.0, 13.0, 87.0, 0.08560110913052081)\">0.036</th><th style=\"background:rgba(255.0, 13.0, 87.0, 0.04618736383442265)\">0.022</th><th style=\"background:rgba(255.0, 13.0, 87.0, 0.09348385818974037)\">0.041</th><th style=\"background:rgba(255.0, 13.0, 87.0, 0.05407011289364243)\">0.023</th><th style=\"background:rgba(255.0, 13.0, 87.0, 0.04618736383442265)\">0.022</th><th style=\"background:rgba(255.0, 13.0, 87.0, 0.03830461477520289)\">0.017</th><th style=\"background:rgba(255.0, 13.0, 87.0, 0.06195286195286207)\">0.028</th><th style=\"background:rgba(255.0, 13.0, 87.0, 0.06983561101208159)\">0.031</th><th style=\"background:rgba(255.0, 13.0, 87.0, 0.04618736383442265)\">0.022</th><th style=\"background:rgba(255.0, 13.0, 87.0, 0.05407011289364243)\">0.026</th><th style=\"background:rgba(255.0, 13.0, 87.0, 0.10136660724896006)\">0.044</th><th style=\"background:rgba(255.0, 13.0, 87.0, 0.04618736383442265)\">0.021</th><th style=\"background:rgba(255.0, 13.0, 87.0, 0.07771836007130124)\">0.035</th><th style=\"background:rgba(255.0, 13.0, 87.0, 0.13289760348583876)\">0.055</th><th style=\"background:rgba(255.0, 13.0, 87.0, 0.14866310160427795)\">0.065</th><th style=\"background:rgba(255.0, 13.0, 87.0, 0.14866310160427795)\">0.062</th><th style=\"background:rgba(255.0, 13.0, 87.0, 0.1959595959595959)\">0.081</th><th style=\"background:rgba(255.0, 13.0, 87.0, 0.1959595959595959)\">0.084</th><th style=\"background:rgba(255.0, 13.0, 87.0, 0.8265795206971679)\">0.342</th><th style=\"background:rgba(255.0, 13.0, 87.0, 0.14078035254505847)\">0.061</th></tr><tr><th>▁design</th><th style=\"background:rgba(255.0, 13.0, 87.0, 0.06983561101208159)\">0.032</th><th style=\"background:rgba(255.0, 13.0, 87.0, 0.1171321053673995)\">0.049</th><th style=\"background:rgba(255.0, 13.0, 87.0, 0.08560110913052081)\">0.038</th><th style=\"background:rgba(255.0, 13.0, 87.0, 0.08560110913052081)\">0.038</th><th style=\"background:rgba(255.0, 13.0, 87.0, 0.05407011289364243)\">0.026</th><th style=\"background:rgba(255.0, 13.0, 87.0, 0.08560110913052081)\">0.039</th><th style=\"background:rgba(255.0, 13.0, 87.0, 0.03830461477520289)\">0.018</th><th style=\"background:rgba(255.0, 13.0, 87.0, 0.06195286195286207)\">0.027</th><th style=\"background:rgba(255.0, 13.0, 87.0, 0.10924935630817992)\">0.045</th><th style=\"background:rgba(255.0, 13.0, 87.0, 0.05407011289364243)\">0.024</th><th style=\"background:rgba(255.0, 13.0, 87.0, 0.04618736383442265)\">0.02</th><th style=\"background:rgba(255.0, 13.0, 87.0, 0.06983561101208159)\">0.032</th><th style=\"background:rgba(255.0, 13.0, 87.0, 0.07771836007130124)\">0.033</th><th style=\"background:rgba(255.0, 13.0, 87.0, 0.06195286195286207)\">0.028</th><th style=\"background:rgba(255.0, 13.0, 87.0, 0.06983561101208159)\">0.031</th><th style=\"background:rgba(255.0, 13.0, 87.0, 0.08560110913052081)\">0.036</th><th style=\"background:rgba(255.0, 13.0, 87.0, 0.2747870865517925)\">0.115</th><th style=\"background:rgba(255.0, 13.0, 87.0, 0.5585660526836996)\">0.233</th><th style=\"background:rgba(255.0, 13.0, 87.0, 0.6058625470390177)\">0.252</th><th style=\"background:rgba(255.0, 13.0, 87.0, 0.2117250940780353)\">0.088</th><th style=\"background:rgba(255.0, 13.0, 87.0, 0.20384234501881549)\">0.086</th></tr><tr><th>.</th><th style=\"background:rgba(255.0, 13.0, 87.0, 0.03830461477520289)\">0.019</th><th style=\"background:rgba(255.0, 13.0, 87.0, 0.06195286195286207)\">0.028</th><th style=\"background:rgba(255.0, 13.0, 87.0, 0.06195286195286207)\">0.026</th><th style=\"background:rgba(255.0, 13.0, 87.0, 0.2117250940780353)\">0.091</th><th style=\"background:rgba(255.0, 13.0, 87.0, 0.05407011289364243)\">0.023</th><th style=\"background:rgba(255.0, 13.0, 87.0, 0.04618736383442265)\">0.022</th><th style=\"background:rgba(255.0, 13.0, 87.0, 0.06195286195286207)\">0.027</th><th style=\"background:rgba(255.0, 13.0, 87.0, 0.04618736383442265)\">0.02</th><th style=\"background:rgba(255.0, 13.0, 87.0, 0.05407011289364243)\">0.025</th><th style=\"background:rgba(255.0, 13.0, 87.0, 0.07771836007130124)\">0.035</th><th style=\"background:rgba(255.0, 13.0, 87.0, 0.06195286195286207)\">0.028</th><th style=\"background:rgba(255.0, 13.0, 87.0, 0.23537334125569415)\">0.099</th><th style=\"background:rgba(255.0, 13.0, 87.0, 0.06983561101208159)\">0.03</th><th style=\"background:rgba(255.0, 13.0, 87.0, 0.04618736383442265)\">0.022</th><th style=\"background:rgba(255.0, 13.0, 87.0, 0.17231134878193693)\">0.073</th><th style=\"background:rgba(255.0, 13.0, 87.0, 0.14078035254505847)\">0.06</th><th style=\"background:rgba(255.0, 13.0, 87.0, 0.13289760348583876)\">0.056</th><th style=\"background:rgba(255.0, 13.0, 87.0, 0.20384234501881549)\">0.086</th><th style=\"background:rgba(255.0, 13.0, 87.0, 0.10924935630817992)\">0.047</th><th style=\"background:rgba(255.0, 13.0, 87.0, 0.32208358090711037)\">0.134</th><th style=\"background:rgba(255.0, 13.0, 87.0, 0.5585660526836996)\">0.231</th></tr><tr><th>&lt;/s&gt;</th><th style=\"background:rgba(230.2941176470614, 26.505882352939775, 102.59215686274348, 0.0)\">0.0</th><th style=\"background:rgba(230.2941176470614, 26.505882352939775, 102.59215686274348, 0.0)\">0.0</th><th style=\"background:rgba(230.2941176470614, 26.505882352939775, 102.59215686274348, 0.0)\">0.0</th><th style=\"background:rgba(230.2941176470614, 26.505882352939775, 102.59215686274348, 0.0)\">0.0</th><th style=\"background:rgba(230.2941176470614, 26.505882352939775, 102.59215686274348, 0.0)\">0.0</th><th style=\"background:rgba(230.2941176470614, 26.505882352939775, 102.59215686274348, 0.0)\">0.0</th><th style=\"background:rgba(230.2941176470614, 26.505882352939775, 102.59215686274348, 0.0)\">0.0</th><th style=\"background:rgba(230.2941176470614, 26.505882352939775, 102.59215686274348, 0.0)\">0.0</th><th style=\"background:rgba(230.2941176470614, 26.505882352939775, 102.59215686274348, 0.0)\">0.0</th><th style=\"background:rgba(230.2941176470614, 26.505882352939775, 102.59215686274348, 0.0)\">0.0</th><th style=\"background:rgba(230.2941176470614, 26.505882352939775, 102.59215686274348, 0.0)\">0.0</th><th style=\"background:rgba(230.2941176470614, 26.505882352939775, 102.59215686274348, 0.0)\">0.0</th><th style=\"background:rgba(230.2941176470614, 26.505882352939775, 102.59215686274348, 0.0)\">0.0</th><th style=\"background:rgba(230.2941176470614, 26.505882352939775, 102.59215686274348, 0.0)\">0.0</th><th style=\"background:rgba(230.2941176470614, 26.505882352939775, 102.59215686274348, 0.0)\">0.0</th><th style=\"background:rgba(230.2941176470614, 26.505882352939775, 102.59215686274348, 0.0)\">0.0</th><th style=\"background:rgba(230.2941176470614, 26.505882352939775, 102.59215686274348, 0.0)\">0.0</th><th style=\"background:rgba(230.2941176470614, 26.505882352939775, 102.59215686274348, 0.0)\">0.0</th><th style=\"background:rgba(230.2941176470614, 26.505882352939775, 102.59215686274348, 0.0)\">0.0</th><th style=\"background:rgba(230.2941176470614, 26.505882352939775, 102.59215686274348, 0.0)\">0.0</th><th style=\"background:rgba(230.2941176470614, 26.505882352939775, 102.59215686274348, 0.0)\">0.0</th></tr><tr style=\"outline: thin solid\"><th><b>deltas</b></th><th>0.0</th><th>-0.0</th><th>0.0</th><th>0.0</th><th>-0.0</th><th>-0.0</th><th>-0.004</th><th>0.001</th><th>0.008</th><th>0.001</th><th>0.0</th><th>0.0</th><th>0.0</th><th>-0.0</th><th>0.0</th><th>0.0</th><th>0.0</th><th>0.0</th><th>0.0</th><th>-0.0</th><th>0.0</th><tr style=\"outline: thin solid\"><th><b>probability</b></th><th><b>0.528</b></th><th><b>0.556</b></th><th>0.335</th><th><b>0.897</b></th><th><b>0.878</b></th><th><b>0.526</b></th><th><b>0.804</b></th><th><b>0.521</b></th><th>0.335</th><th><b>0.581</b></th><th><b>0.844</b></th><th><b>0.906</b></th><th><b>0.9</b></th><th><b>0.836</b></th><th><b>0.909</b></th><th><b>0.83</b></th><th><b>0.894</b></th><th><b>0.513</b></th><th><b>0.708</b></th><th><b>0.889</b></th><th><b>0.903</b></th></table>\n",
       "</div>\n",
       "\n",
       "        </div>\n",
       "    </div>\n",
       "</div>\n",
       "</html>\n"
      ],
      "text/plain": [
       "<IPython.core.display.HTML object>"
      ]
     },
     "metadata": {},
     "output_type": "display_data"
    }
   ],
   "source": [
    "\n",
    "model = inseq.load_model(\"Helsinki-NLP/opus-mt-en-fr\", \"integrated_gradients\")\n",
    "out = model.attribute(\n",
    "    \"The developer argued with the designer because she did not like the design.\",\n",
    "    n_steps=300,\n",
    "    return_convergence_delta=True,\n",
    "    step_scores=[\"probability\"],\n",
    ")\n",
    "out.show()"
   ]
  }
 ],
 "metadata": {
  "kernelspec": {
   "display_name": "eva",
   "language": "python",
   "name": "python3"
  },
  "language_info": {
   "codemirror_mode": {
    "name": "ipython",
    "version": 3
   },
   "file_extension": ".py",
   "mimetype": "text/x-python",
   "name": "python",
   "nbconvert_exporter": "python",
   "pygments_lexer": "ipython3",
   "version": "3.11.0"
  },
  "orig_nbformat": 4
 },
 "nbformat": 4,
 "nbformat_minor": 2
}
